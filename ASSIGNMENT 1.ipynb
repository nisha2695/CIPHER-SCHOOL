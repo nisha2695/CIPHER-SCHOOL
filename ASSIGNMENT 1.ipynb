{
 "cells": [
  {
   "cell_type": "code",
   "execution_count": 1,
   "metadata": {},
   "outputs": [
    {
     "name": "stdout",
     "output_type": "stream",
     "text": [
      "enter the number with comma2,3,4,5\n",
      "['2', '3', '4', '5']\n",
      "['3', '4', '5', '2']\n"
     ]
    }
   ],
   "source": [
    "#ques 1: remove duplicate from the list.\n",
    "num=input(\"enter the number with comma\")\n",
    "li=num.split(\",\")\n",
    "print(li)\n",
    "l2=set(li)\n",
    "l2=list(l2)\n",
    "print(l2)"
   ]
  },
  {
   "cell_type": "code",
   "execution_count": 5,
   "metadata": {},
   "outputs": [
    {
     "name": "stdout",
     "output_type": "stream",
     "text": [
      "enter the number with space2 3 4 5\n",
      "(2, 3, 4, 5)\n",
      "the length is: 4\n",
      "the sum is: 14\n",
      "the max is: 5\n",
      "the min is: 5\n"
     ]
    }
   ],
   "source": [
    "#ques 2: WAP to create user defined tuple with int data type ,find length,sum,smallest and largest number.\n",
    "t=input(\"enter the number with space\")\n",
    "tupp=tuple(map(int,t.split(\" \")))\n",
    "print(tupp)\n",
    "print(\"the length is:\",len(tupp))\n",
    "\n",
    "a=sum(tupp)\n",
    "print(\"the sum is:\",a)\n",
    "n=max(tupp)\n",
    "print(\"the max is:\",n)\n",
    "m=max(tupp)\n",
    "print(\"the min is:\",m)"
   ]
  },
  {
   "cell_type": "code",
   "execution_count": 7,
   "metadata": {},
   "outputs": [
    {
     "name": "stdout",
     "output_type": "stream",
     "text": [
      "enter the number5\n",
      "enter the ith bit1\n",
      "2\n",
      "7\n"
     ]
    }
   ],
   "source": [
    "#ques3 :given a number and ith bit,change ith bit of number to 1\n",
    "n=int(input(\"enter the number\"))\n",
    "i=int(input(\"enter the ith bit\"))\n",
    "mag_no=1<<i\n",
    "print(mag_no)\n",
    "a=n | mag_no\n",
    "print(\"the number is\",a) \n",
    "\n"
   ]
  },
  {
   "cell_type": "code",
   "execution_count": 8,
   "metadata": {},
   "outputs": [
    {
     "name": "stdout",
     "output_type": "stream",
     "text": [
      "enter the number3\n",
      "1\n"
     ]
    }
   ],
   "source": [
    "#ques4:given a number ,print 1 if number is odd otherwise print 0.\n",
    "no=int(input(\"enter the number\"))\n",
    "print(\"1\" if no%2==True else \"0\")"
   ]
  },
  {
   "cell_type": "code",
   "execution_count": 9,
   "metadata": {},
   "outputs": [
    {
     "name": "stdout",
     "output_type": "stream",
     "text": [
      "[1, 2, 3, 4, 6, 7, 8, 9]\n"
     ]
    }
   ],
   "source": [
    "#ques5:given two list of integres A&B .WAP  to merge lists and sort the.\n",
    "a=[1,2,3,4]\n",
    "b=[6,7,8,9]\n",
    "c=[]\n",
    "c=a+b\n",
    "c.sort()\n",
    "print(c)"
   ]
  },
  {
   "cell_type": "code",
   "execution_count": 14,
   "metadata": {},
   "outputs": [
    {
     "name": "stdout",
     "output_type": "stream",
     "text": [
      "name of student with spacenirobi oslo moscow berlin\n",
      "the marks of student with spaces100 0 50 70\n",
      "{'nirobi': 100, 'oslo': 0, 'moscow': 50, 'berlin': 70}\n",
      "[('oslo', 0), ('moscow', 50), ('berlin', 70), ('nirobi', 100)]\n"
     ]
    }
   ],
   "source": [
    "#ques6:user defined dictionary to store students name and marks.Sort the dictionary according to marks\n",
    "name=input(\"name of student with space\")\n",
    "name=name.split(\" \")\n",
    "score=input(\"the marks of student with spaces\")\n",
    "score=map(int,score.split(\" \"))\n",
    "d=dict(zip(name,score))\n",
    "print(d)\n",
    "a=sorted(d.items(),key=lambda d:d[1])\n",
    "print(a)"
   ]
  },
  {
   "cell_type": "code",
   "execution_count": null,
   "metadata": {},
   "outputs": [],
   "source": []
  }
 ],
 "metadata": {
  "kernelspec": {
   "display_name": "Python 3",
   "language": "python",
   "name": "python3"
  },
  "language_info": {
   "codemirror_mode": {
    "name": "ipython",
    "version": 3
   },
   "file_extension": ".py",
   "mimetype": "text/x-python",
   "name": "python",
   "nbconvert_exporter": "python",
   "pygments_lexer": "ipython3",
   "version": "3.7.3"
  }
 },
 "nbformat": 4,
 "nbformat_minor": 2
}
